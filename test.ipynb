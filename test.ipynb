{
 "cells": [
  {
   "cell_type": "markdown",
   "metadata": {},
   "source": [
    "## Dependencies"
   ]
  },
  {
   "cell_type": "code",
   "execution_count": 1,
   "metadata": {
    "ExecuteTime": {
     "end_time": "2022-06-23T06:22:50.635148Z",
     "start_time": "2022-06-23T06:22:49.469060Z"
    }
   },
   "outputs": [],
   "source": [
    "import warnings\n",
    "import pandas as pd \n",
    "from WeightOfEvidenceScoring import frequency_table\n",
    "from WeightOfEvidenceScoring import DiscreteNormalizer\n",
    "from WeightOfEvidenceScoring import Discretizer\n",
    "from WeightOfEvidenceScoring import WoeEncoder\n",
    "from WeightOfEvidenceScoring import WoeContinuousFeatureSelector\n",
    "from WeightOfEvidenceScoring import WoeDiscreteFeatureSelector\n",
    "from WeightOfEvidenceScoring import CreditScoring\n",
    "from sklearn.linear_model import LogisticRegression\n",
    "from sklearn.metrics import roc_auc_score\n",
    "\n",
    "import seaborn as sns\n",
    "warnings.filterwarnings('ignore')"
   ]
  },
  {
   "cell_type": "markdown",
   "metadata": {},
   "source": [
    "## Reading example data"
   ]
  },
  {
   "cell_type": "code",
   "execution_count": 2,
   "metadata": {
    "ExecuteTime": {
     "end_time": "2022-06-23T06:22:50.650528Z",
     "start_time": "2022-06-23T06:22:50.636950Z"
    }
   },
   "outputs": [],
   "source": [
    "t = pd.read_csv('train.csv')\n",
    "v = pd.read_csv('valid.csv')   "
   ]
  },
  {
   "cell_type": "markdown",
   "metadata": {},
   "source": [
    "## Defining feature type"
   ]
  },
  {
   "cell_type": "code",
   "execution_count": 3,
   "metadata": {
    "ExecuteTime": {
     "end_time": "2022-06-23T06:22:50.937260Z",
     "start_time": "2022-06-23T06:22:50.651983Z"
    }
   },
   "outputs": [],
   "source": [
    "vard = [v for v in t.columns if v[:2]=='D_']\n",
    "varc = [v for v in t.columns if v[:2]=='C_']"
   ]
  },
  {
   "cell_type": "markdown",
   "metadata": {},
   "source": [
    "## Normalize Discrete Features"
   ]
  },
  {
   "cell_type": "code",
   "execution_count": 4,
   "metadata": {
    "ExecuteTime": {
     "end_time": "2022-06-23T06:22:51.084579Z",
     "start_time": "2022-06-23T06:22:50.940560Z"
    }
   },
   "outputs": [],
   "source": [
    "dn = DiscreteNormalizer()"
   ]
  },
  {
   "cell_type": "code",
   "execution_count": 5,
   "metadata": {
    "ExecuteTime": {
     "end_time": "2022-06-23T06:22:51.217344Z",
     "start_time": "2022-06-23T06:22:51.086263Z"
    }
   },
   "outputs": [],
   "source": [
    "dn.fit(t[vard])"
   ]
  },
  {
   "cell_type": "code",
   "execution_count": 6,
   "metadata": {
    "ExecuteTime": {
     "end_time": "2022-06-23T06:22:51.293193Z",
     "start_time": "2022-06-23T06:22:51.218881Z"
    }
   },
   "outputs": [],
   "source": [
    "Xt = dn.transform(t[vard])"
   ]
  },
  {
   "cell_type": "code",
   "execution_count": 7,
   "metadata": {
    "ExecuteTime": {
     "end_time": "2022-06-23T06:22:51.418505Z",
     "start_time": "2022-06-23T06:22:51.294759Z"
    }
   },
   "outputs": [
    {
     "name": "stdout",
     "output_type": "stream",
     "text": [
      "****Frequency Table  D_OCCUPATION_TYPE  ***\n",
      "\n",
      "\n",
      "             Abs. Freq.  Rel. Freq.  Cumm. Abs. Freq.  Cumm. Rel. Freq.\n",
      "Core staff           83       0.083                83             0.083\n",
      "Drivers              67       0.067               150             0.150\n",
      "Laborers            166       0.166               316             0.316\n",
      "MISSING             325       0.325               641             0.641\n",
      "Managers             70       0.070               711             0.711\n",
      "OTHER               175       0.175               886             0.886\n",
      "Sales staff         114       0.114              1000             1.000\n",
      "\n",
      "\n",
      "\n",
      "\n",
      "****Frequency Table  D_NAME_CONTRACT_TYPE  ***\n",
      "\n",
      "\n",
      "                 Abs. Freq.  Rel. Freq.  Cumm. Abs. Freq.  Cumm. Rel. Freq.\n",
      "Cash loans              897       0.897               897             0.897\n",
      "Revolving loans         103       0.103              1000             1.000\n",
      "\n",
      "\n",
      "\n",
      "\n",
      "****Frequency Table  D_CODE_GENDER  ***\n",
      "\n",
      "\n",
      "   Abs. Freq.  Rel. Freq.  Cumm. Abs. Freq.  Cumm. Rel. Freq.\n",
      "F         659       0.659               659             0.659\n",
      "M         341       0.341              1000             1.000\n",
      "\n",
      "\n",
      "\n",
      "\n",
      "****Frequency Table  D_FLAG_OWN_CAR  ***\n",
      "\n",
      "\n",
      "   Abs. Freq.  Rel. Freq.  Cumm. Abs. Freq.  Cumm. Rel. Freq.\n",
      "N         668       0.668               668             0.668\n",
      "Y         332       0.332              1000             1.000\n",
      "\n",
      "\n",
      "\n",
      "\n",
      "****Frequency Table  D_FLAG_OWN_REALTY  ***\n",
      "\n",
      "\n",
      "   Abs. Freq.  Rel. Freq.  Cumm. Abs. Freq.  Cumm. Rel. Freq.\n",
      "N         287       0.287               287             0.287\n",
      "Y         713       0.713              1000             1.000\n",
      "\n",
      "\n",
      "\n",
      "\n",
      "****Frequency Table  D_NAME_INCOME_TYPE  ***\n",
      "\n",
      "\n",
      "                      Abs. Freq.  Rel. Freq.  Cumm. Abs. Freq.  \\\n",
      "Commercial associate         225       0.225               225   \n",
      "Pensioner                    179       0.179               404   \n",
      "State servant                 63       0.063               467   \n",
      "Working                      533       0.533              1000   \n",
      "\n",
      "                      Cumm. Rel. Freq.  \n",
      "Commercial associate             0.225  \n",
      "Pensioner                        0.404  \n",
      "State servant                    0.467  \n",
      "Working                          1.000  \n",
      "\n",
      "\n",
      "\n",
      "\n",
      "****Frequency Table  D_NAME_EDUCATION_TYPE  ***\n",
      "\n",
      "\n",
      "                               Abs. Freq.  Rel. Freq.  Cumm. Abs. Freq.  \\\n",
      "Higher education                      243       0.243               243   \n",
      "OTHER                                  52       0.052               295   \n",
      "Secondary / secondary special         705       0.705              1000   \n",
      "\n",
      "                               Cumm. Rel. Freq.  \n",
      "Higher education                          0.243  \n",
      "OTHER                                     0.295  \n",
      "Secondary / secondary special             1.000  \n",
      "\n",
      "\n",
      "\n",
      "\n",
      "****Frequency Table  D_NAME_FAMILY_STATUS  ***\n",
      "\n",
      "\n",
      "                      Abs. Freq.  Rel. Freq.  Cumm. Abs. Freq.  \\\n",
      "Civil marriage               102       0.102               102   \n",
      "Married                      620       0.620               722   \n",
      "Separated                     64       0.064               786   \n",
      "Single / not married         161       0.161               947   \n",
      "Widow                         53       0.053              1000   \n",
      "\n",
      "                      Cumm. Rel. Freq.  \n",
      "Civil marriage                   0.102  \n",
      "Married                          0.722  \n",
      "Separated                        0.786  \n",
      "Single / not married             0.947  \n",
      "Widow                            1.000  \n",
      "\n",
      "\n",
      "\n",
      "\n",
      "****Frequency Table  D_NAME_HOUSING_TYPE  ***\n",
      "\n",
      "\n",
      "                   Abs. Freq.  Rel. Freq.  Cumm. Abs. Freq.  Cumm. Rel. Freq.\n",
      "House / apartment         878       0.878               878             0.878\n",
      "OTHER                      72       0.072               950             0.950\n",
      "With parents               50       0.050              1000             1.000\n",
      "\n",
      "\n",
      "\n",
      "\n",
      "****Frequency Table  D_FLAG_PHONE  ***\n",
      "\n",
      "\n",
      "   Abs. Freq.  Rel. Freq.  Cumm. Abs. Freq.  Cumm. Rel. Freq.\n",
      "0         721       0.721               721             0.721\n",
      "1         279       0.279              1000             1.000\n",
      "\n",
      "\n",
      "\n",
      "\n",
      "****Frequency Table  D_WEEKDAY_APPR_PROCESS_START  ***\n",
      "\n",
      "\n",
      "           Abs. Freq.  Rel. Freq.  Cumm. Abs. Freq.  Cumm. Rel. Freq.\n",
      "FRIDAY            145       0.145               145             0.145\n",
      "MONDAY            170       0.170               315             0.315\n",
      "SATURDAY          106       0.106               421             0.421\n",
      "SUNDAY             56       0.056               477             0.477\n",
      "THURSDAY          179       0.179               656             0.656\n",
      "TUESDAY           177       0.177               833             0.833\n",
      "WEDNESDAY         167       0.167              1000             1.000\n",
      "\n",
      "\n",
      "\n",
      "\n",
      "****Frequency Table  D_NAME_TYPE_SUITE  ***\n",
      "\n",
      "\n",
      "               Abs. Freq.  Rel. Freq.  Cumm. Abs. Freq.  Cumm. Rel. Freq.\n",
      "Family                126       0.126               126             0.126\n",
      "OTHER                  65       0.065               191             0.191\n",
      "Unaccompanied         809       0.809              1000             1.000\n",
      "\n",
      "\n",
      "\n",
      "\n",
      "****Frequency Table  D_HOUSETYPE_MODE  ***\n",
      "\n",
      "\n",
      "                Abs. Freq.  Rel. Freq.  Cumm. Abs. Freq.  Cumm. Rel. Freq.\n",
      "MISSING                490        0.49               490              0.49\n",
      "block of flats         510        0.51              1000              1.00\n",
      "\n",
      "\n",
      "\n",
      "\n",
      "****Frequency Table  D_WALLSMATERIAL_MODE  ***\n",
      "\n",
      "\n",
      "              Abs. Freq.  Rel. Freq.  Cumm. Abs. Freq.  Cumm. Rel. Freq.\n",
      "MISSING              499       0.499               499             0.499\n",
      "OTHER                 61       0.061               560             0.560\n",
      "Panel                227       0.227               787             0.787\n",
      "Stone, brick         213       0.213              1000             1.000\n",
      "\n",
      "\n",
      "\n",
      "\n"
     ]
    }
   ],
   "source": [
    "frequency_table(Xt,vard)"
   ]
  },
  {
   "cell_type": "code",
   "execution_count": 8,
   "metadata": {
    "ExecuteTime": {
     "end_time": "2022-06-23T06:22:51.517321Z",
     "start_time": "2022-06-23T06:22:51.420074Z"
    }
   },
   "outputs": [
    {
     "data": {
      "text/plain": [
       "[]"
      ]
     },
     "execution_count": 8,
     "metadata": {},
     "output_type": "execute_result"
    }
   ],
   "source": [
    "unary = [v for v in vard if Xt[v].nunique==1]\n",
    "unary"
   ]
  },
  {
   "cell_type": "markdown",
   "metadata": {},
   "source": [
    "## WoE Based Best Feature Selection"
   ]
  },
  {
   "cell_type": "code",
   "execution_count": 9,
   "metadata": {
    "ExecuteTime": {
     "end_time": "2022-06-23T06:22:51.623927Z",
     "start_time": "2022-06-23T06:22:51.518691Z"
    }
   },
   "outputs": [],
   "source": [
    "Xt = pd.concat([Xt,t[varc]],axis=1)"
   ]
  },
  {
   "cell_type": "code",
   "execution_count": 10,
   "metadata": {
    "ExecuteTime": {
     "end_time": "2022-06-23T06:22:51.771284Z",
     "start_time": "2022-06-23T06:22:51.626565Z"
    }
   },
   "outputs": [],
   "source": [
    "wcf = WoeContinuousFeatureSelector()\n",
    "wdf = WoeDiscreteFeatureSelector()"
   ]
  },
  {
   "cell_type": "code",
   "execution_count": 11,
   "metadata": {
    "ExecuteTime": {
     "end_time": "2022-06-23T06:23:00.812207Z",
     "start_time": "2022-06-23T06:22:51.772607Z"
    }
   },
   "outputs": [],
   "source": [
    "wcf.fit(Xt[varc],t['TARGET'],strictly_monotonic=True,iv_threshold=0.05,method='dec',n_threads=20)\n",
    "wdf.fit(Xt[vard],t['TARGET'],iv_threshold=0.1)"
   ]
  },
  {
   "cell_type": "code",
   "execution_count": 12,
   "metadata": {
    "ExecuteTime": {
     "end_time": "2022-06-23T06:23:01.085589Z",
     "start_time": "2022-06-23T06:23:00.813842Z"
    }
   },
   "outputs": [],
   "source": [
    "Xt = pd.concat([wdf.transform(Xt[vard]),wcf.transform(Xt[varc])],axis=1)"
   ]
  },
  {
   "cell_type": "code",
   "execution_count": 13,
   "metadata": {
    "ExecuteTime": {
     "end_time": "2022-06-23T06:23:01.089607Z",
     "start_time": "2022-06-23T06:23:01.087125Z"
    }
   },
   "outputs": [],
   "source": [
    "var = list(Xt.columns)"
   ]
  },
  {
   "cell_type": "code",
   "execution_count": 14,
   "metadata": {
    "ExecuteTime": {
     "end_time": "2022-06-23T06:23:01.219951Z",
     "start_time": "2022-06-23T06:23:01.091060Z"
    }
   },
   "outputs": [
    {
     "data": {
      "text/plain": [
       "['D_CODE_GENDER',\n",
       " 'disc_C_AMT_CREDIT_4_gaussian',\n",
       " 'disc_C_AMT_CREDIT_4_kmeans',\n",
       " 'disc_C_AMT_CREDIT_3_quantile',\n",
       " 'disc_C_AMT_INCOME_TOTAL_3_gaussian']"
      ]
     },
     "execution_count": 14,
     "metadata": {},
     "output_type": "execute_result"
    }
   ],
   "source": [
    "var"
   ]
  },
  {
   "cell_type": "code",
   "execution_count": 15,
   "metadata": {
    "ExecuteTime": {
     "end_time": "2022-06-23T06:23:01.318882Z",
     "start_time": "2022-06-23T06:23:01.221491Z"
    }
   },
   "outputs": [
    {
     "data": {
      "text/plain": [
       "[{'feature': 'disc_C_AMT_CREDIT_4_gaussian',\n",
       "  'iv': 0.0620354419480231,\n",
       "  'root_feature': 'C_AMT_CREDIT',\n",
       "  'nbins': '4',\n",
       "  'method': 'gaussian'},\n",
       " {'feature': 'disc_C_AMT_CREDIT_4_kmeans',\n",
       "  'iv': 0.08944178361036469,\n",
       "  'root_feature': 'C_AMT_CREDIT',\n",
       "  'nbins': '4',\n",
       "  'method': 'kmeans'},\n",
       " {'feature': 'disc_C_AMT_CREDIT_3_quantile',\n",
       "  'iv': 0.07455217706705206,\n",
       "  'root_feature': 'C_AMT_CREDIT',\n",
       "  'nbins': '3',\n",
       "  'method': 'quantile'},\n",
       " {'feature': 'disc_C_AMT_INCOME_TOTAL_3_gaussian',\n",
       "  'iv': 0.07962740474700439,\n",
       "  'root_feature': 'C_AMT_INCOME_TOTAL',\n",
       "  'nbins': '3',\n",
       "  'method': 'gaussian'}]"
      ]
     },
     "execution_count": 15,
     "metadata": {},
     "output_type": "execute_result"
    }
   ],
   "source": [
    "wcf.selected_features"
   ]
  },
  {
   "cell_type": "code",
   "execution_count": 16,
   "metadata": {
    "ExecuteTime": {
     "end_time": "2022-06-23T06:23:01.417228Z",
     "start_time": "2022-06-23T06:23:01.320086Z"
    }
   },
   "outputs": [
    {
     "data": {
      "text/plain": [
       "{'D_CODE_GENDER': 0.10698023203218116}"
      ]
     },
     "execution_count": 16,
     "metadata": {},
     "output_type": "execute_result"
    }
   ],
   "source": [
    "wdf.selected_features"
   ]
  },
  {
   "cell_type": "markdown",
   "metadata": {},
   "source": [
    "## WoE Transformation"
   ]
  },
  {
   "cell_type": "code",
   "execution_count": 17,
   "metadata": {
    "ExecuteTime": {
     "end_time": "2022-06-23T06:23:01.515103Z",
     "start_time": "2022-06-23T06:23:01.418995Z"
    }
   },
   "outputs": [],
   "source": [
    "we = WoeEncoder()"
   ]
  },
  {
   "cell_type": "code",
   "execution_count": 18,
   "metadata": {
    "ExecuteTime": {
     "end_time": "2022-06-23T06:23:01.644104Z",
     "start_time": "2022-06-23T06:23:01.516466Z"
    }
   },
   "outputs": [],
   "source": [
    "we.fit(Xt[var],t['TARGET'])"
   ]
  },
  {
   "cell_type": "code",
   "execution_count": 19,
   "metadata": {
    "ExecuteTime": {
     "end_time": "2022-06-23T06:23:01.727462Z",
     "start_time": "2022-06-23T06:23:01.645480Z"
    }
   },
   "outputs": [],
   "source": [
    "Xwt = we.transform(Xt[var])"
   ]
  },
  {
   "cell_type": "markdown",
   "metadata": {},
   "source": [
    "## Parameter Learning"
   ]
  },
  {
   "cell_type": "code",
   "execution_count": 20,
   "metadata": {
    "ExecuteTime": {
     "end_time": "2022-06-23T06:23:01.822416Z",
     "start_time": "2022-06-23T06:23:01.728915Z"
    }
   },
   "outputs": [],
   "source": [
    "lr = LogisticRegression()"
   ]
  },
  {
   "cell_type": "code",
   "execution_count": 21,
   "metadata": {
    "ExecuteTime": {
     "end_time": "2022-06-23T06:23:01.927629Z",
     "start_time": "2022-06-23T06:23:01.823816Z"
    }
   },
   "outputs": [
    {
     "data": {
      "text/html": [
       "<style>#sk-container-id-1 {color: black;background-color: white;}#sk-container-id-1 pre{padding: 0;}#sk-container-id-1 div.sk-toggleable {background-color: white;}#sk-container-id-1 label.sk-toggleable__label {cursor: pointer;display: block;width: 100%;margin-bottom: 0;padding: 0.3em;box-sizing: border-box;text-align: center;}#sk-container-id-1 label.sk-toggleable__label-arrow:before {content: \"▸\";float: left;margin-right: 0.25em;color: #696969;}#sk-container-id-1 label.sk-toggleable__label-arrow:hover:before {color: black;}#sk-container-id-1 div.sk-estimator:hover label.sk-toggleable__label-arrow:before {color: black;}#sk-container-id-1 div.sk-toggleable__content {max-height: 0;max-width: 0;overflow: hidden;text-align: left;background-color: #f0f8ff;}#sk-container-id-1 div.sk-toggleable__content pre {margin: 0.2em;color: black;border-radius: 0.25em;background-color: #f0f8ff;}#sk-container-id-1 input.sk-toggleable__control:checked~div.sk-toggleable__content {max-height: 200px;max-width: 100%;overflow: auto;}#sk-container-id-1 input.sk-toggleable__control:checked~label.sk-toggleable__label-arrow:before {content: \"▾\";}#sk-container-id-1 div.sk-estimator input.sk-toggleable__control:checked~label.sk-toggleable__label {background-color: #d4ebff;}#sk-container-id-1 div.sk-label input.sk-toggleable__control:checked~label.sk-toggleable__label {background-color: #d4ebff;}#sk-container-id-1 input.sk-hidden--visually {border: 0;clip: rect(1px 1px 1px 1px);clip: rect(1px, 1px, 1px, 1px);height: 1px;margin: -1px;overflow: hidden;padding: 0;position: absolute;width: 1px;}#sk-container-id-1 div.sk-estimator {font-family: monospace;background-color: #f0f8ff;border: 1px dotted black;border-radius: 0.25em;box-sizing: border-box;margin-bottom: 0.5em;}#sk-container-id-1 div.sk-estimator:hover {background-color: #d4ebff;}#sk-container-id-1 div.sk-parallel-item::after {content: \"\";width: 100%;border-bottom: 1px solid gray;flex-grow: 1;}#sk-container-id-1 div.sk-label:hover label.sk-toggleable__label {background-color: #d4ebff;}#sk-container-id-1 div.sk-serial::before {content: \"\";position: absolute;border-left: 1px solid gray;box-sizing: border-box;top: 0;bottom: 0;left: 50%;z-index: 0;}#sk-container-id-1 div.sk-serial {display: flex;flex-direction: column;align-items: center;background-color: white;padding-right: 0.2em;padding-left: 0.2em;position: relative;}#sk-container-id-1 div.sk-item {position: relative;z-index: 1;}#sk-container-id-1 div.sk-parallel {display: flex;align-items: stretch;justify-content: center;background-color: white;position: relative;}#sk-container-id-1 div.sk-item::before, #sk-container-id-1 div.sk-parallel-item::before {content: \"\";position: absolute;border-left: 1px solid gray;box-sizing: border-box;top: 0;bottom: 0;left: 50%;z-index: -1;}#sk-container-id-1 div.sk-parallel-item {display: flex;flex-direction: column;z-index: 1;position: relative;background-color: white;}#sk-container-id-1 div.sk-parallel-item:first-child::after {align-self: flex-end;width: 50%;}#sk-container-id-1 div.sk-parallel-item:last-child::after {align-self: flex-start;width: 50%;}#sk-container-id-1 div.sk-parallel-item:only-child::after {width: 0;}#sk-container-id-1 div.sk-dashed-wrapped {border: 1px dashed gray;margin: 0 0.4em 0.5em 0.4em;box-sizing: border-box;padding-bottom: 0.4em;background-color: white;}#sk-container-id-1 div.sk-label label {font-family: monospace;font-weight: bold;display: inline-block;line-height: 1.2em;}#sk-container-id-1 div.sk-label-container {text-align: center;}#sk-container-id-1 div.sk-container {/* jupyter's `normalize.less` sets `[hidden] { display: none; }` but bootstrap.min.css set `[hidden] { display: none !important; }` so we also need the `!important` here to be able to override the default hidden behavior on the sphinx rendered scikit-learn.org. See: https://github.com/scikit-learn/scikit-learn/issues/21755 */display: inline-block !important;position: relative;}#sk-container-id-1 div.sk-text-repr-fallback {display: none;}</style><div id=\"sk-container-id-1\" class=\"sk-top-container\"><div class=\"sk-text-repr-fallback\"><pre>LogisticRegression()</pre><b>In a Jupyter environment, please rerun this cell to show the HTML representation or trust the notebook. <br />On GitHub, the HTML representation is unable to render, please try loading this page with nbviewer.org.</b></div><div class=\"sk-container\" hidden><div class=\"sk-item\"><div class=\"sk-estimator sk-toggleable\"><input class=\"sk-toggleable__control sk-hidden--visually\" id=\"sk-estimator-id-1\" type=\"checkbox\" checked><label for=\"sk-estimator-id-1\" class=\"sk-toggleable__label sk-toggleable__label-arrow\">LogisticRegression</label><div class=\"sk-toggleable__content\"><pre>LogisticRegression()</pre></div></div></div></div></div>"
      ],
      "text/plain": [
       "LogisticRegression()"
      ]
     },
     "execution_count": 21,
     "metadata": {},
     "output_type": "execute_result"
    }
   ],
   "source": [
    "lr.fit(Xwt,t['TARGET'])"
   ]
  },
  {
   "cell_type": "code",
   "execution_count": 22,
   "metadata": {
    "ExecuteTime": {
     "end_time": "2022-06-23T06:23:02.238364Z",
     "start_time": "2022-06-23T06:23:01.929096Z"
    }
   },
   "outputs": [
    {
     "data": {
      "text/html": [
       "<div>\n",
       "<style scoped>\n",
       "    .dataframe tbody tr th:only-of-type {\n",
       "        vertical-align: middle;\n",
       "    }\n",
       "\n",
       "    .dataframe tbody tr th {\n",
       "        vertical-align: top;\n",
       "    }\n",
       "\n",
       "    .dataframe thead th {\n",
       "        text-align: right;\n",
       "    }\n",
       "</style>\n",
       "<table border=\"1\" class=\"dataframe\">\n",
       "  <thead>\n",
       "    <tr style=\"text-align: right;\">\n",
       "      <th></th>\n",
       "      <th>D_CODE_GENDER</th>\n",
       "      <th>disc_C_AMT_CREDIT_4_gaussian</th>\n",
       "      <th>disc_C_AMT_CREDIT_4_kmeans</th>\n",
       "      <th>disc_C_AMT_CREDIT_3_quantile</th>\n",
       "      <th>disc_C_AMT_INCOME_TOTAL_3_gaussian</th>\n",
       "    </tr>\n",
       "  </thead>\n",
       "  <tbody>\n",
       "    <tr>\n",
       "      <th>0</th>\n",
       "      <td>-0.397247</td>\n",
       "      <td>0.138010</td>\n",
       "      <td>0.092313</td>\n",
       "      <td>0.146261</td>\n",
       "      <td>-0.095193</td>\n",
       "    </tr>\n",
       "    <tr>\n",
       "      <th>1</th>\n",
       "      <td>0.271721</td>\n",
       "      <td>-0.351785</td>\n",
       "      <td>0.092313</td>\n",
       "      <td>-0.320138</td>\n",
       "      <td>-0.095193</td>\n",
       "    </tr>\n",
       "    <tr>\n",
       "      <th>2</th>\n",
       "      <td>0.271721</td>\n",
       "      <td>-0.351785</td>\n",
       "      <td>-0.303484</td>\n",
       "      <td>-0.320138</td>\n",
       "      <td>-0.095193</td>\n",
       "    </tr>\n",
       "    <tr>\n",
       "      <th>3</th>\n",
       "      <td>0.271721</td>\n",
       "      <td>-0.351785</td>\n",
       "      <td>-0.303484</td>\n",
       "      <td>-0.320138</td>\n",
       "      <td>-0.095193</td>\n",
       "    </tr>\n",
       "    <tr>\n",
       "      <th>4</th>\n",
       "      <td>0.271721</td>\n",
       "      <td>0.138010</td>\n",
       "      <td>0.092313</td>\n",
       "      <td>0.146261</td>\n",
       "      <td>-0.095193</td>\n",
       "    </tr>\n",
       "    <tr>\n",
       "      <th>...</th>\n",
       "      <td>...</td>\n",
       "      <td>...</td>\n",
       "      <td>...</td>\n",
       "      <td>...</td>\n",
       "      <td>...</td>\n",
       "    </tr>\n",
       "    <tr>\n",
       "      <th>995</th>\n",
       "      <td>-0.397247</td>\n",
       "      <td>0.138010</td>\n",
       "      <td>0.092313</td>\n",
       "      <td>-0.320138</td>\n",
       "      <td>-0.095193</td>\n",
       "    </tr>\n",
       "    <tr>\n",
       "      <th>996</th>\n",
       "      <td>0.271721</td>\n",
       "      <td>0.242872</td>\n",
       "      <td>-0.336037</td>\n",
       "      <td>0.309964</td>\n",
       "      <td>-0.569651</td>\n",
       "    </tr>\n",
       "    <tr>\n",
       "      <th>997</th>\n",
       "      <td>0.271721</td>\n",
       "      <td>0.187212</td>\n",
       "      <td>-0.303484</td>\n",
       "      <td>-0.320138</td>\n",
       "      <td>-0.095193</td>\n",
       "    </tr>\n",
       "    <tr>\n",
       "      <th>998</th>\n",
       "      <td>0.271721</td>\n",
       "      <td>-0.351785</td>\n",
       "      <td>0.092313</td>\n",
       "      <td>-0.320138</td>\n",
       "      <td>0.424632</td>\n",
       "    </tr>\n",
       "    <tr>\n",
       "      <th>999</th>\n",
       "      <td>0.271721</td>\n",
       "      <td>0.242872</td>\n",
       "      <td>0.598831</td>\n",
       "      <td>0.309964</td>\n",
       "      <td>-0.095193</td>\n",
       "    </tr>\n",
       "  </tbody>\n",
       "</table>\n",
       "<p>1000 rows × 5 columns</p>\n",
       "</div>"
      ],
      "text/plain": [
       "     D_CODE_GENDER  disc_C_AMT_CREDIT_4_gaussian  disc_C_AMT_CREDIT_4_kmeans  \\\n",
       "0        -0.397247                      0.138010                    0.092313   \n",
       "1         0.271721                     -0.351785                    0.092313   \n",
       "2         0.271721                     -0.351785                   -0.303484   \n",
       "3         0.271721                     -0.351785                   -0.303484   \n",
       "4         0.271721                      0.138010                    0.092313   \n",
       "..             ...                           ...                         ...   \n",
       "995      -0.397247                      0.138010                    0.092313   \n",
       "996       0.271721                      0.242872                   -0.336037   \n",
       "997       0.271721                      0.187212                   -0.303484   \n",
       "998       0.271721                     -0.351785                    0.092313   \n",
       "999       0.271721                      0.242872                    0.598831   \n",
       "\n",
       "     disc_C_AMT_CREDIT_3_quantile  disc_C_AMT_INCOME_TOTAL_3_gaussian  \n",
       "0                        0.146261                           -0.095193  \n",
       "1                       -0.320138                           -0.095193  \n",
       "2                       -0.320138                           -0.095193  \n",
       "3                       -0.320138                           -0.095193  \n",
       "4                        0.146261                           -0.095193  \n",
       "..                            ...                                 ...  \n",
       "995                     -0.320138                           -0.095193  \n",
       "996                      0.309964                           -0.569651  \n",
       "997                     -0.320138                           -0.095193  \n",
       "998                     -0.320138                            0.424632  \n",
       "999                      0.309964                           -0.095193  \n",
       "\n",
       "[1000 rows x 5 columns]"
      ]
     },
     "execution_count": 22,
     "metadata": {},
     "output_type": "execute_result"
    }
   ],
   "source": [
    "Xwt"
   ]
  },
  {
   "cell_type": "code",
   "execution_count": 23,
   "metadata": {
    "ExecuteTime": {
     "end_time": "2022-06-23T06:23:02.345318Z",
     "start_time": "2022-06-23T06:23:02.240172Z"
    }
   },
   "outputs": [
    {
     "data": {
      "text/plain": [
       "0.6509046708114139"
      ]
     },
     "execution_count": 23,
     "metadata": {},
     "output_type": "execute_result"
    }
   ],
   "source": [
    "roc_auc_score(y_score=lr.predict_proba(Xwt)[:,1],y_true=t['TARGET'])"
   ]
  },
  {
   "cell_type": "markdown",
   "metadata": {},
   "source": [
    "## Scoring"
   ]
  },
  {
   "cell_type": "code",
   "execution_count": 24,
   "metadata": {
    "ExecuteTime": {
     "end_time": "2022-06-23T06:23:02.440922Z",
     "start_time": "2022-06-23T06:23:02.346960Z"
    }
   },
   "outputs": [],
   "source": [
    "cs = CreditScoring()"
   ]
  },
  {
   "cell_type": "code",
   "execution_count": 25,
   "metadata": {
    "ExecuteTime": {
     "end_time": "2022-06-23T06:23:02.559237Z",
     "start_time": "2022-06-23T06:23:02.442210Z"
    }
   },
   "outputs": [],
   "source": [
    "cs.fit(Xwt,we,lr)"
   ]
  },
  {
   "cell_type": "code",
   "execution_count": 26,
   "metadata": {
    "ExecuteTime": {
     "end_time": "2022-06-23T06:23:02.652193Z",
     "start_time": "2022-06-23T06:23:02.560355Z"
    }
   },
   "outputs": [
    {
     "data": {
      "text/html": [
       "<div>\n",
       "<style scoped>\n",
       "    .dataframe tbody tr th:only-of-type {\n",
       "        vertical-align: middle;\n",
       "    }\n",
       "\n",
       "    .dataframe tbody tr th {\n",
       "        vertical-align: top;\n",
       "    }\n",
       "\n",
       "    .dataframe thead th {\n",
       "        text-align: right;\n",
       "    }\n",
       "</style>\n",
       "<table border=\"1\" class=\"dataframe\">\n",
       "  <thead>\n",
       "    <tr style=\"text-align: right;\">\n",
       "      <th></th>\n",
       "      <th></th>\n",
       "      <th>points</th>\n",
       "    </tr>\n",
       "    <tr>\n",
       "      <th>feature</th>\n",
       "      <th>attribute</th>\n",
       "      <th></th>\n",
       "    </tr>\n",
       "  </thead>\n",
       "  <tbody>\n",
       "    <tr>\n",
       "      <th rowspan=\"2\" valign=\"top\">D_CODE_GENDER</th>\n",
       "      <th>F</th>\n",
       "      <td>73</td>\n",
       "    </tr>\n",
       "    <tr>\n",
       "      <th>M</th>\n",
       "      <td>55</td>\n",
       "    </tr>\n",
       "    <tr>\n",
       "      <th rowspan=\"3\" valign=\"top\">disc_C_AMT_CREDIT_3_quantile</th>\n",
       "      <th>(327024.0, 675000.0]</th>\n",
       "      <td>62</td>\n",
       "    </tr>\n",
       "    <tr>\n",
       "      <th>(47969.999, 327024.0]</th>\n",
       "      <td>67</td>\n",
       "    </tr>\n",
       "    <tr>\n",
       "      <th>(675000.0, 2370559.5]</th>\n",
       "      <td>69</td>\n",
       "    </tr>\n",
       "    <tr>\n",
       "      <th rowspan=\"4\" valign=\"top\">disc_C_AMT_CREDIT_4_gaussian</th>\n",
       "      <th>(370629.0, 652500.0]</th>\n",
       "      <td>63</td>\n",
       "    </tr>\n",
       "    <tr>\n",
       "      <th>(47969.999, 370629.0]</th>\n",
       "      <td>67</td>\n",
       "    </tr>\n",
       "    <tr>\n",
       "      <th>(652500.0, 983299.5]</th>\n",
       "      <td>67</td>\n",
       "    </tr>\n",
       "    <tr>\n",
       "      <th>(983299.5, 2370559.5]</th>\n",
       "      <td>68</td>\n",
       "    </tr>\n",
       "    <tr>\n",
       "      <th rowspan=\"4\" valign=\"top\">disc_C_AMT_CREDIT_4_kmeans</th>\n",
       "      <th>(1381796.72, 2370559.5]</th>\n",
       "      <td>60</td>\n",
       "    </tr>\n",
       "    <tr>\n",
       "      <th>(456025.115, 869398.644]</th>\n",
       "      <td>60</td>\n",
       "    </tr>\n",
       "    <tr>\n",
       "      <th>(47969.999, 456025.115]</th>\n",
       "      <td>67</td>\n",
       "    </tr>\n",
       "    <tr>\n",
       "      <th>(869398.644, 1381796.72]</th>\n",
       "      <td>77</td>\n",
       "    </tr>\n",
       "    <tr>\n",
       "      <th rowspan=\"3\" valign=\"top\">disc_C_AMT_INCOME_TOTAL_3_gaussian</th>\n",
       "      <th>(173250.0, 306000.0]</th>\n",
       "      <td>77</td>\n",
       "    </tr>\n",
       "    <tr>\n",
       "      <th>(28403.999, 173250.0]</th>\n",
       "      <td>63</td>\n",
       "    </tr>\n",
       "    <tr>\n",
       "      <th>(306000.0, 810000.0]</th>\n",
       "      <td>50</td>\n",
       "    </tr>\n",
       "  </tbody>\n",
       "</table>\n",
       "</div>"
      ],
      "text/plain": [
       "                                                             points\n",
       "feature                            attribute                       \n",
       "D_CODE_GENDER                      F                             73\n",
       "                                   M                             55\n",
       "disc_C_AMT_CREDIT_3_quantile       (327024.0, 675000.0]          62\n",
       "                                   (47969.999, 327024.0]         67\n",
       "                                   (675000.0, 2370559.5]         69\n",
       "disc_C_AMT_CREDIT_4_gaussian       (370629.0, 652500.0]          63\n",
       "                                   (47969.999, 370629.0]         67\n",
       "                                   (652500.0, 983299.5]          67\n",
       "                                   (983299.5, 2370559.5]         68\n",
       "disc_C_AMT_CREDIT_4_kmeans         (1381796.72, 2370559.5]       60\n",
       "                                   (456025.115, 869398.644]      60\n",
       "                                   (47969.999, 456025.115]       67\n",
       "                                   (869398.644, 1381796.72]      77\n",
       "disc_C_AMT_INCOME_TOTAL_3_gaussian (173250.0, 306000.0]          77\n",
       "                                   (28403.999, 173250.0]         63\n",
       "                                   (306000.0, 810000.0]          50"
      ]
     },
     "execution_count": 26,
     "metadata": {},
     "output_type": "execute_result"
    }
   ],
   "source": [
    "cs.scorecard"
   ]
  },
  {
   "cell_type": "markdown",
   "metadata": {},
   "source": [
    "## Validation"
   ]
  },
  {
   "cell_type": "code",
   "execution_count": 27,
   "metadata": {
    "ExecuteTime": {
     "end_time": "2022-06-23T06:23:03.005262Z",
     "start_time": "2022-06-23T06:23:02.653601Z"
    }
   },
   "outputs": [],
   "source": [
    "Xv = pd.concat([wdf.transform(dn.transform(v[vard])),wcf.transform(v[varc])],axis=1)\n",
    "Xwv = we.transform(Xv)"
   ]
  },
  {
   "cell_type": "code",
   "execution_count": 28,
   "metadata": {
    "ExecuteTime": {
     "end_time": "2022-06-23T06:23:03.015742Z",
     "start_time": "2022-06-23T06:23:03.008849Z"
    }
   },
   "outputs": [
    {
     "data": {
      "text/plain": [
       "0.654511398055157"
      ]
     },
     "execution_count": 28,
     "metadata": {},
     "output_type": "execute_result"
    }
   ],
   "source": [
    "roc_auc_score(y_score=lr.predict_proba(Xwv)[:,1],y_true=v['TARGET'])"
   ]
  },
  {
   "cell_type": "code",
   "execution_count": 29,
   "metadata": {
    "ExecuteTime": {
     "end_time": "2022-06-23T06:23:03.129622Z",
     "start_time": "2022-06-23T06:23:03.017149Z"
    }
   },
   "outputs": [],
   "source": [
    "score = pd.concat([cs.transform(we.inverse_transform(Xwv))[['score']].assign(sample='validation'),\n",
    "cs.transform(we.inverse_transform(Xwt))[['score']].assign(sample='train')],ignore_index=True)"
   ]
  },
  {
   "cell_type": "code",
   "execution_count": 30,
   "metadata": {
    "ExecuteTime": {
     "end_time": "2022-06-23T06:23:03.380358Z",
     "start_time": "2022-06-23T06:23:03.130912Z"
    }
   },
   "outputs": [
    {
     "data": {
      "image/png": "[encoded data removed]",
      "text/plain": [
       "<Figure size 432x288 with 1 Axes>"
      ]
     },
     "metadata": {
      "needs_background": "light"
     },
     "output_type": "display_data"
    }
   ],
   "source": [
    "for s,d in score.groupby('sample'):\n",
    "    sns.kdeplot(d['score'])"
   ]
  },
  {
   "cell_type": "code",
   "execution_count": null,
   "metadata": {},
   "outputs": [],
   "source": []
  }
 ],
 "metadata": {
  "kernelspec": {
   "display_name": "ins",
   "language": "python",
   "name": "ins"
  },
  "language_info": {
   "codemirror_mode": {
    "name": "ipython",
    "version": 3
   },
   "file_extension": ".py",
   "mimetype": "text/x-python",
   "name": "python",
   "nbconvert_exporter": "python",
   "pygments_lexer": "ipython3",
   "version": "3.8.10"
  },
  "toc": {
   "base_numbering": 1,
   "nav_menu": {},
   "number_sections": true,
   "sideBar": true,
   "skip_h1_title": false,
   "title_cell": "Table of Contents",
   "title_sidebar": "Contents",
   "toc_cell": false,
   "toc_position": {
    "height": "calc(100% - 180px)",
    "left": "10px",
    "top": "150px",
    "width": "341.333px"
   },
   "toc_section_display": true,
   "toc_window_display": true
  },
  "vscode": {
   "interpreter": {
    "hash": "7e11c88f35c2c5fde0a38a51094f5e2fce5b626769864a25001c06b80821448c"
   }
  }
 },
 "nbformat": 4,
 "nbformat_minor": 2
}
